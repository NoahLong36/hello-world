{
 "cells": [
  {
   "cell_type": "code",
   "execution_count": 6,
   "metadata": {},
   "outputs": [
    {
     "name": "stdin",
     "output_type": "stream",
     "text": [
      "What's your name? james\n",
      "What's your favorite food? pizza\n"
     ]
    },
    {
     "name": "stdout",
     "output_type": "stream",
     "text": [
      "Vowel Spotted: a\n",
      "Vowel Spotted: i\n"
     ]
    }
   ],
   "source": [
    "name = input(\"What's your name?\")\n",
    "other = input(\"What's your favorite food?\")\n",
    "vowel = False\n",
    "\n",
    "vowels = ['a','e','i','o','u','y']\n",
    "for vowell in vowels:\n",
    "    if vowell in other:\n",
    "        vowel = True\n",
    "        print(\"Vowel Spotted: \" +vowell)\n",
    "        "
   ]
  },
  {
   "cell_type": "code",
   "execution_count": null,
   "metadata": {},
   "outputs": [],
   "source": []
  }
 ],
 "metadata": {
  "kernelspec": {
   "display_name": "Python 3",
   "language": "python",
   "name": "python3"
  },
  "language_info": {
   "codemirror_mode": {
    "name": "ipython",
    "version": 3
   },
   "file_extension": ".py",
   "mimetype": "text/x-python",
   "name": "python",
   "nbconvert_exporter": "python",
   "pygments_lexer": "ipython3",
   "version": "3.8.3"
  }
 },
 "nbformat": 4,
 "nbformat_minor": 4
}
