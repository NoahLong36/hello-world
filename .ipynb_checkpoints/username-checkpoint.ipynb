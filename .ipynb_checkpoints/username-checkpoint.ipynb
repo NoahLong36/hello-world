{
 "cells": [
  {
   "cell_type": "code",
   "execution_count": null,
   "metadata": {},
   "outputs": [],
   "source": [
    "username = str(input(\"Enter your username: \"))\n",
    "password = str(input(\"Enter your password: \"))\n",
    "\n",
    "\n",
    "assignedUser = \"NEL36\"\n",
    "assignedPass = \"JkJk123\"\n",
    "\n",
    "run = True\n",
    "while run:\n",
    "    if username == assignedUser:\n",
    "        if password == assignedPass;\n",
    "            print(\"You are logged in!\")\n",
    "            run = False\n",
    "        elif password != assignedPass:\n",
    "            print(\"Incorrect Password!\")\n",
    "            password = str(input(\"Enter your password: \"))\n",
    "    elif username != assignedUser:\n",
    "        print(\"Incorrect Password\")\n",
    "        username = str(input(\"Enter your username: \"))\n"
   ]
  }
 ],
 "metadata": {
  "kernelspec": {
   "display_name": "Python 3",
   "language": "python",
   "name": "python3"
  },
  "language_info": {
   "codemirror_mode": {
    "name": "ipython",
    "version": 3
   },
   "file_extension": ".py",
   "mimetype": "text/x-python",
   "name": "python",
   "nbconvert_exporter": "python",
   "pygments_lexer": "ipython3",
   "version": "3.8.3"
  }
 },
 "nbformat": 4,
 "nbformat_minor": 4
}
