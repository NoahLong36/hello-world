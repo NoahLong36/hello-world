{
 "cells": [
  {
   "cell_type": "code",
   "execution_count": 4,
   "metadata": {},
   "outputs": [
    {
     "name": "stdin",
     "output_type": "stream",
     "text": [
      "What's your name? james\n",
      "What's your favorite food? Oranges\n"
     ]
    },
    {
     "name": "stdout",
     "output_type": "stream",
     "text": [
      "3\n",
      "Consonants: \n",
      "r\n",
      "n\n",
      "g\n",
      "s\n",
      "Vowels: \n",
      "a\n",
      "e\n",
      "O\n"
     ]
    }
   ],
   "source": [
    "name = input(\"What's your name?\")\n",
    "other = input(\"What's your favorite food?\")\n",
    "\n",
    "vowelList = ['a','e','i','o','u','y','A','E','I','O','U','Y']\n",
    "consonants = []\n",
    "vowels = []\n",
    "\n",
    "def checkVowels(vowels,vowelList, other):\n",
    "    vowelCount = 0\n",
    "    for vowell in vowelList:\n",
    "        if vowell in other:\n",
    "            vowels.append(vowell)\n",
    "            vowelCount += 1\n",
    "    print(vowelCount)\n",
    "    \n",
    "def checkConsonant(consonants,vowels, other):\n",
    "    consonantCount = 0\n",
    "    for consonant in other:\n",
    "        if not consonant in vowels:\n",
    "            consonants.append(consonant)\n",
    "checkVowels(vowels, vowelList, other)\n",
    "checkConsonant(consonants,vowels, other)\n",
    "\n",
    "print(\"Consonants: \")\n",
    "for c in consonants:\n",
    "    print(c)\n",
    "    \n",
    "print(\"Vowels: \")\n",
    "for v in vowels:\n",
    "    print(v)\n",
    "\n",
    "\n",
    "\n",
    "\n",
    "        "
   ]
  },
  {
   "cell_type": "code",
   "execution_count": null,
   "metadata": {},
   "outputs": [],
   "source": []
  }
 ],
 "metadata": {
  "kernelspec": {
   "display_name": "Python 3",
   "language": "python",
   "name": "python3"
  },
  "language_info": {
   "codemirror_mode": {
    "name": "ipython",
    "version": 3
   },
   "file_extension": ".py",
   "mimetype": "text/x-python",
   "name": "python",
   "nbconvert_exporter": "python",
   "pygments_lexer": "ipython3",
   "version": "3.8.3"
  }
 },
 "nbformat": 4,
 "nbformat_minor": 4
}
